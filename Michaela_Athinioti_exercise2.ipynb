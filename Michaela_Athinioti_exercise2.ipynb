{
  "nbformat": 4,
  "nbformat_minor": 0,
  "metadata": {
    "colab": {
      "provenance": [],
      "include_colab_link": true
    },
    "kernelspec": {
      "name": "python3",
      "display_name": "Python 3"
    },
    "language_info": {
      "name": "python"
    }
  },
  "cells": [
    {
      "cell_type": "markdown",
      "metadata": {
        "id": "view-in-github",
        "colab_type": "text"
      },
      "source": [
        "<a href=\"https://colab.research.google.com/github/athiniotim/athiniotim/blob/main/Michaela_Athinioti_exercise2.ipynb\" target=\"_parent\"><img src=\"https://colab.research.google.com/assets/colab-badge.svg\" alt=\"Open In Colab\"/></a>"
      ]
    },
    {
      "cell_type": "markdown",
      "source": [
        "### **Άσκηση 1**:\n",
        "\n",
        "Χρησιμοποιώντας τις ιδιότητες/λειτουργίες των λιστών, υπολογίστε το μέσο όρο των βαθμών σε 3 μαθήματα, με 2 τρόπους, που περιγράφονται στα hints.\n",
        "\n",
        "Στη συνέχεια προσθέστε το βαθμό ενός ακόμα μαθήματος και ξαναϋπολογίστε το μέσο όρο και στρογγυλοποιήστε τον ώστε να μην έχει κανένα δεκαδικό ψηφίο.\n",
        "\n",
        "Τέλος, βρείτε το μεγαλύτερο βαθμό, τον μικρότερο βαθμό και το πλήθος των βαθμών.\n",
        "\n",
        "*Hints*:\n",
        "- φτιάξτε μια μεταβλητή για το βαθμό κάθε μαθήματος\n",
        "- φτιάξτε μια λίστα που θα περιέχει τις παραπάνω μεταβλητές\n",
        "- χρησιμοποιήστε τη συνάρτηση ```mean``` της βιβλιοθήκης ```statistics``` για να υπολογίσετε το μέσο όρο (from statistics import mean) - 1ος τρόπος\n",
        "- χρησιμοποιήστε τις συναρτήσεις ```sum()``` και ```len()``` για λίστες, για να εφαρμόσετε τον τύπο υπολογισμού του μέσου όρου: ```<άθροισμα βαθμών> / <πλήθος βαθμών>``` - 2ος τρόπος\n",
        "- χρησιμοποιήστε τη συνάρτηση ```round()``` για να στογγυλοποιήσετε το μέσο όρο\n",
        "- χρησιμοποιήστε τις συναρτήσεις ```max()```, ```min()``` και ```len()``` για να βρείτε αντίστοιχα το μεγαλύτερο βαθμό, τον μικρότερο βαθμό και το πλήθος των βαθμών\n",
        "\n",
        "*Tips*:\n",
        "- γράψτε μία-μία τις εντολές σε διαφορετικά κελιά και τυπώνετε το αποτέλεσμα της κάθε εντολής για να ελέγχετε το τι κάνετε\n",
        "- συμβουλευτείτε / αποδεχθείτε τις προτάσεις που σας κάνει το Gemini καθώς πληκτρολογείτε τις εντολές, πατώντας Tab - κάνετε διορθώσεις όπου χρειάζεται.\n"
      ],
      "metadata": {
        "id": "rUaKYeb1UuMb"
      }
    },
    {
      "cell_type": "code",
      "source": [
        "vathmoi_list = []\n",
        "vathmos1 = 10\n",
        "vathmos2 = 9\n",
        "vathmos3 = 8\n",
        "vathmoi_list.append(vathmos1)\n",
        "vathmoi_list.append(vathmos2)\n",
        "vathmoi_list.append(vathmos3)\n",
        "vathmoi_mo = sum(vathmoi_list) / len(vathmoi_list)\n",
        "print(vathmoi_mo)\n",
        "round(vathmoi_mo)"
      ],
      "metadata": {
        "id": "k8V_N7g6mKen",
        "colab": {
          "base_uri": "https://localhost:8080/"
        },
        "outputId": "d32aa07b-b35c-4bce-8c81-c26e6c51c408"
      },
      "execution_count": 15,
      "outputs": [
        {
          "output_type": "stream",
          "name": "stdout",
          "text": [
            "9.0\n"
          ]
        },
        {
          "output_type": "execute_result",
          "data": {
            "text/plain": [
              "9"
            ]
          },
          "metadata": {},
          "execution_count": 15
        }
      ]
    },
    {
      "cell_type": "code",
      "source": [
        "from statistics import mean\n",
        "mean(vathmoi_list)"
      ],
      "metadata": {
        "id": "CF17TBkWmJYc",
        "colab": {
          "base_uri": "https://localhost:8080/"
        },
        "outputId": "7ebb769b-6175-4c61-8511-69c24c076a4b"
      },
      "execution_count": 16,
      "outputs": [
        {
          "output_type": "execute_result",
          "data": {
            "text/plain": [
              "9"
            ]
          },
          "metadata": {},
          "execution_count": 16
        }
      ]
    },
    {
      "cell_type": "code",
      "source": [
        "max(vathmoi_list)"
      ],
      "metadata": {
        "colab": {
          "base_uri": "https://localhost:8080/"
        },
        "id": "BUGl5HHvWvNY",
        "outputId": "a1b26e93-7e3c-408d-90e7-df1fd46b0a93"
      },
      "execution_count": 19,
      "outputs": [
        {
          "output_type": "execute_result",
          "data": {
            "text/plain": [
              "10"
            ]
          },
          "metadata": {},
          "execution_count": 19
        }
      ]
    },
    {
      "cell_type": "code",
      "source": [
        "min(vathmoi_list)"
      ],
      "metadata": {
        "colab": {
          "base_uri": "https://localhost:8080/"
        },
        "id": "pWQUor0wW3ZB",
        "outputId": "2cb4db73-4c9c-45b6-ac3f-f0ab8b3f8bc0"
      },
      "execution_count": 20,
      "outputs": [
        {
          "output_type": "execute_result",
          "data": {
            "text/plain": [
              "8"
            ]
          },
          "metadata": {},
          "execution_count": 20
        }
      ]
    },
    {
      "cell_type": "code",
      "source": [
        "len(vathmoi_list)"
      ],
      "metadata": {
        "colab": {
          "base_uri": "https://localhost:8080/"
        },
        "id": "-ff0sC0MW67t",
        "outputId": "e6d1d2b6-b810-40fd-b527-a56dbd3abaa4"
      },
      "execution_count": 21,
      "outputs": [
        {
          "output_type": "execute_result",
          "data": {
            "text/plain": [
              "3"
            ]
          },
          "metadata": {},
          "execution_count": 21
        }
      ]
    },
    {
      "cell_type": "markdown",
      "source": [
        "\n",
        "\n",
        "---\n",
        "\n"
      ],
      "metadata": {
        "id": "nQ3CwAZKdbX9"
      }
    },
    {
      "cell_type": "markdown",
      "source": [
        "### **Άσκηση 2**:\n",
        "\n",
        "Μια συνήθης τυποποιημένη μορφή καταγραφής της ημερομηνίας δημοσίευσης των άρθρων στα ειδησεογραφικά sites είναι η εξής: ```2025-03-04T12:07:19+02:00``` και ονομάζεται ```datetime```.\n",
        "\n",
        "- το κομμάτι ```2025-03-04``` αναφέρεται στα ```έτος-μήνας-ημέρα```\n",
        "- το ```Τ``` υποδηλώνει ότι ακολουθεί η ώρα\n",
        "- το κομμάτι ```12:07:19``` αναφέρεται στα ```ώρα:λεπτά:δευτερόλεπτα```\n",
        "- το κομμάτι ```+02:00``` αναφέρεται στη διαφορά ώρας σε σχέση με την Παγκόσμια Συντονισμένη Ώρα (UTC - Coordinated Universal Time).\n",
        "\n",
        "**Άσκηση 2**:\n",
        "\n",
        "Ξεκινώντας από μια μεταβλητή με όνομα dateTime και τιμή την παραπάνω ημερομηνία-ώρα (2025-03-04T12:07:19+02:00), δημιουργήστε δύο μεταβλητές με ονόματα Date και Time στις οποίες θα αποθηκεύσετε αντίστοιχα την ημερομηνία και την ώρα.\n",
        "\n",
        "Στη συνέχεια, χρησιμοποιώντας τις μεταβλητές Date και Time που φτιάξατε, δημιουργήστε μια νέα μεταβλητή με όνομα custom_datetime η τιμή της οποίας θα είναι ένα string που θα περιέχει την ημέρομηνία και την ώρα στη μορφή: \"έτος, μήνας, ημέρα, ώρα:λεπτά:δευτερόλεπτα\" και τυπώστε τη στην οθόνη.\n",
        "\n",
        "*Hints*:\n",
        "- η τιμή της μεταβλητής dateTime είναι string, άρα μπορούμε να δουλέψουμε με αυτή σαν να είναι λίστα και να απομονώσουμε κομμάτια της χρησιμοποιώντας το index του πρώτου χαρακτήρα και του επόμενου από τον τελευταίο χαρακτήρα που θέλουμε (π.χ. dateTime[firstIndex:lastIndex+1])\n",
        "- ο επόμενος από τον τελευταίο χαρακτήρα της ημερομηνίας είναι το \"Τ\"\n",
        "- ο επόμενος από τον τελευταίο χαρακτήρα της ώρας είναι το \"+\"\n",
        "- μπορούμε να βρούμε το index ενός χαρακτήρα σε ένα string με τη μέθοδο index()\n",
        "- μπορούμε να αντικαταστήσουμε έναν χαρακτήρα σε ένα string με έναν άλλο χαρακτήρα με την εντολή replace(). Π.χ. μπορούμε να αντικαταστήσουμε σε ένα string τα κόμματα με τελείες με την εντολή string1.replace(\",\", \".\")\n",
        "- μπορούμε να ενώσουμε strings με το +. Π.χ. string3 = string1 + \", \" + string2 (το \", \" παρεμβάλει ανάμεσα στα αρχικά strings ένα κόμμα ακολουθούμενο από ένα κενό)\n",
        "\n",
        "*Tips*:\n",
        "- γράψτε μία-μία τις εντολές σε διαφορετικά κελιά και τυπώνετε το αποτέλεσμα της κάθε εντολής για να ελέγχετε το τι κάνετε\n",
        "- συμβουλευτείτε / αποδεχθείτε τις προτάσεις που σας κάνει το Gemini καθώς πληκτρολογείτε τις εντολές, πατώντας Tab - κάνετε διορθώσεις όπου χρειάζεται.\n",
        "\n"
      ],
      "metadata": {
        "id": "BQA7FXLgFHKA"
      }
    },
    {
      "cell_type": "code",
      "source": [
        "dateTime ='2025-03-04T12:07:19+02:00'\n",
        "Date = dateTime[:10]\n",
        "Time = dateTime[11:19]\n",
        "print (Date,' & ' , Time)"
      ],
      "metadata": {
        "id": "RNqXTJxHmOcQ",
        "colab": {
          "base_uri": "https://localhost:8080/"
        },
        "outputId": "a14971c5-cd16-468c-a222-fe9ad033e7ca"
      },
      "execution_count": 31,
      "outputs": [
        {
          "output_type": "stream",
          "name": "stdout",
          "text": [
            "2025-03-04  &  12:07:19\n"
          ]
        }
      ]
    },
    {
      "cell_type": "code",
      "source": [
        "custom_datetime = Date.replace(\"-\", \", \") + \",\" + ' ' + Time\n",
        "print(custom_datetime)"
      ],
      "metadata": {
        "id": "tXggB5UEmOLR",
        "colab": {
          "base_uri": "https://localhost:8080/"
        },
        "outputId": "a6d4d129-84e3-4b9e-9660-922134fa1f4e"
      },
      "execution_count": 40,
      "outputs": [
        {
          "output_type": "stream",
          "name": "stdout",
          "text": [
            "2025, 03, 04, 12:07:19\n"
          ]
        }
      ]
    },
    {
      "cell_type": "markdown",
      "source": [
        "\n",
        "\n",
        "---\n",
        "\n"
      ],
      "metadata": {
        "id": "msY4V_-QlRQU"
      }
    },
    {
      "cell_type": "markdown",
      "source": [
        "### **Άσκηση Bonus (για τους πιο πορωμένους/ες 😃)** [μη βαθμολογήσιμη]\n",
        "\n",
        "Εκτός από τις συναρτήσεις που είναι ενσωματωμένες στην Python ή περιέχονται σε βιβλιοθήκες που μπορούμε να εισάγουμε (όπως η βιβλιοθήκη Statistics που είδαμε), μπορούμε να φτιάξουμε και δικές μας συναρτήσεις.\n",
        "\n",
        "Ο τρόπος κατασκευής δικών μας συναρτήσεων παρουσιάζεται παρακάτω:"
      ],
      "metadata": {
        "id": "m488rAGkebdJ"
      }
    },
    {
      "cell_type": "code",
      "source": [
        "def calculate_avg(list_name):\n",
        "  avg = sum(list_name) / len(list_name)\n",
        "  return avg"
      ],
      "metadata": {
        "id": "RvYcpxm0fO1N"
      },
      "execution_count": null,
      "outputs": []
    },
    {
      "cell_type": "markdown",
      "source": [
        "Με τον παραπάνω κώδικα, με την εντολή ```def```, κατασκευάσαμε μια συνάρτηση με όνομα ```calculate_avg```.\n",
        "\n",
        "Μέσα στην παρένθεση ορίσαμε ότι η παράμετρος που δέχεται η συνάρτηση που κατασκευάζουμε, είναι το όνομα μιας λίστας ```(list_name)```.\n",
        "\n",
        "Στη συνέχεια ορίζουμε τον τύπο με τον οποίο θα υπολογίζουμε τον μέσο όρο, χρησιμοποιώντας το όνομα της λίστας που θα δίνεται σαν παράμετρος όταν καλούμε τη συνάρτηση (εξηγείται παρισσότερο παρακάτω).\n",
        "\n",
        "Τέλος, με την εντολή ```return``` επιστρέφουμε το αποτέλεσμα του υπολογισμού του μέσου όρου.\n",
        "\n",
        "**Προσοχή**: ο κώδικας μέσα στον ορισμό της συνάρτησης είναι intented, δηλαδή με εσοχή.\n"
      ],
      "metadata": {
        "id": "tQDe0GrxfhiE"
      }
    },
    {
      "cell_type": "markdown",
      "source": [
        "Με τον παραπάνω κώδικα κατασκευάσαμε τη συνάρτηση, την οποία πλέον μπορούμε να καλούμε με το όνομά της."
      ],
      "metadata": {
        "id": "krBasSd0hK9e"
      }
    },
    {
      "cell_type": "code",
      "source": [
        "my_gradesL = [10, 7, 6, 9, 8, 9]\n",
        "avg = calculate_avg(my_gradesL)\n",
        "print(avg)"
      ],
      "metadata": {
        "colab": {
          "base_uri": "https://localhost:8080/"
        },
        "id": "OqwYgElufgWX",
        "outputId": "890f48cc-7129-4ad2-f528-f8ca3d0406c7"
      },
      "execution_count": null,
      "outputs": [
        {
          "output_type": "stream",
          "name": "stdout",
          "text": [
            "8.166666666666666\n"
          ]
        }
      ]
    },
    {
      "cell_type": "markdown",
      "source": [
        "Αν στην παραπάνω συνάρτηση ενσωματώσουμε και μια γραμμή κώδικα που θα κάνει στρογγυλοποίηση του avg σε 1 δεκαδικό, στην ουσία έχουμε φτιάξει τη συνάρτηση mean της βιβλιοθήκης statistics.\n",
        "\n",
        "Ή αλλιώς διατυπωμένο: ένας τέτοιος κώδικας τρέχει (κρυφά, από πίσω) όταν καλούμε την εντολή mean() της βιβλιοθήκης statistics."
      ],
      "metadata": {
        "id": "zYIgJEtNh3-j"
      }
    },
    {
      "cell_type": "code",
      "source": [
        "def calculate_avg(list_name):\n",
        "  avg = sum(list_name) / len(list_name)\n",
        "  avg = round(avg, 1)\n",
        "  return avg"
      ],
      "metadata": {
        "id": "Yy0zQjR3idKu"
      },
      "execution_count": null,
      "outputs": []
    },
    {
      "cell_type": "code",
      "source": [
        "avg = calculate_avg(my_gradesL)\n",
        "print(avg)"
      ],
      "metadata": {
        "colab": {
          "base_uri": "https://localhost:8080/"
        },
        "id": "jCISqqZlimL8",
        "outputId": "57b0c4ee-0fde-4289-fb6c-9dea806b4c3d"
      },
      "execution_count": null,
      "outputs": [
        {
          "output_type": "stream",
          "name": "stdout",
          "text": [
            "8.2\n"
          ]
        }
      ]
    },
    {
      "cell_type": "markdown",
      "source": [
        "### **Άσκηση Bonus**:\n",
        "\n",
        "Φτιάξτε μια συνάρτηση (με όνομα κάτι σαν \"date_from_datetime\"), η οποία θα παίρνει ένα datetime string και θα επιστρέφει μόνο την ημερομηνία (δηλαδή μόνο το μέρος \"έτος:μήνας:ημέρα\").\n",
        "\n",
        "*Tip*: Συμβουλευτείτε / αποδεχτείτε τις προτάσεις που σας κάνει το Gemini καθώς γράφετε τον κώδικα στα code shells."
      ],
      "metadata": {
        "id": "l_jDiXpVi2rf"
      }
    },
    {
      "cell_type": "code",
      "source": [
        "def date_from_datetime(string_name):\n",
        "  only_date = dateTime[:10]\n",
        "  return only_date"
      ],
      "metadata": {
        "id": "p0R6psADm6aw"
      },
      "execution_count": 36,
      "outputs": []
    },
    {
      "cell_type": "code",
      "source": [
        "only_date = date_from_datetime(dateTime)\n",
        "print(only_date)"
      ],
      "metadata": {
        "colab": {
          "base_uri": "https://localhost:8080/"
        },
        "id": "0iEsrECAbtyY",
        "outputId": "64e94d0f-d0ac-44e7-f6ea-859cf571e379"
      },
      "execution_count": 37,
      "outputs": [
        {
          "output_type": "stream",
          "name": "stdout",
          "text": [
            "2025-03-04\n"
          ]
        }
      ]
    }
  ]
}
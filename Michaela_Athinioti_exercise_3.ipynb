{
  "nbformat": 4,
  "nbformat_minor": 0,
  "metadata": {
    "colab": {
      "provenance": [],
      "include_colab_link": true
    },
    "kernelspec": {
      "name": "python3",
      "display_name": "Python 3"
    },
    "language_info": {
      "name": "python"
    }
  },
  "cells": [
    {
      "cell_type": "markdown",
      "metadata": {
        "id": "view-in-github",
        "colab_type": "text"
      },
      "source": [
        "<a href=\"https://colab.research.google.com/github/athiniotim/athiniotim/blob/main/Michaela_Athinioti_exercise_3.ipynb\" target=\"_parent\"><img src=\"https://colab.research.google.com/assets/colab-badge.svg\" alt=\"Open In Colab\"/></a>"
      ]
    },
    {
      "cell_type": "markdown",
      "source": [
        "### Άσκηση 1\n",
        "\n",
        "Σ' αυτή την άσκηση θα φτιάξουμε μια λίστα στην οποία θα αποθηκεύουμε διάφορα δεδομένα από άρθρα που δημοσιεύονται σε sites.\n",
        "\n",
        "Φτιάξτε ένα νέο κελί κώδικα (Code cell) ακριβώς κάτω από αυτό και κάνετε τα παρακάτω:\n",
        "\n",
        "- Δημιουργήστε μια κενή λίστα όπου θα αποθηκεύετε τα δεδομένα των άρθρων\n",
        "- Δημιουργήστε ένα λεξικό με τα στοιχεία του πρώτου άρθρου που θα συλλέξετε από ένα site: \"Τίτλος\", \"Ημερομηνία\", \"Κατηγορία\", \"url\"\n",
        "- Επαναλάβετε το 2 για ακόμα ένα άρθρο\n",
        "- Προσθέστε τα λεξικά στη λίστα.\n",
        "- Τυπώστε στην οθόνη τον τίτλο του 2ου άρθρου\n",
        "- Προσθέστε και στα 2 άρθρα μια εγγραφή με το όνομα του αντίστοιχου site που πήρατε το άρθρο\n",
        "- Τυπώστε στην οθόνη το πλήθος των λεξικών που έχει η λίστα.\n",
        "\n",
        "Tip:Δουλέψτε τμηματικά και ελέγχετε σε κάθε βήμα αυτό που κάνετε."
      ],
      "metadata": {
        "id": "PYkQAeYLq0d5"
      }
    },
    {
      "cell_type": "code",
      "execution_count": 2,
      "metadata": {
        "id": "_51_g4biqyte",
        "colab": {
          "base_uri": "https://localhost:8080/"
        },
        "outputId": "b9a15a62-a47e-467a-d14d-7bca0993c9d5"
      },
      "outputs": [
        {
          "output_type": "stream",
          "name": "stdout",
          "text": [
            "Ντράπηκε και η ντροπή με το μήνυμα Μητσοτάκη για τα Τέμπη\n"
          ]
        }
      ],
      "source": [
        "articles_data = []\n",
        "article1 = { \"Τίτλος\" : 'Τέμπη: Τελικά πόσοι άνθρωποι βρέθηκαν στο Σύνταγμα', 'Ημερομηνία' : \"01/03/2025\", 'Κατηγορία' : \"Κοινωνία\", 'url' : 'https://www.tanea.gr/2025/03/01/greece/tempi-telika-posoi-anthropoi-vrethikan-sto-syntagma-2/'}\n",
        "article2 = { \"Τίτλος\" : 'Ντράπηκε και η ντροπή με το μήνυμα Μητσοτάκη για τα Τέμπη', 'Ημερομηνία' : \"28.02.25\", 'Κατηγορία' : \"Κοινωνία\", 'url' : 'https://www.efsyn.gr/politiki/kybernisi/464626_ntrapike-kai-i-ntropi-me-minyma-mitsotaki-gia-ta-tempi#goog_rewarded'}\n",
        "articles_data.append(article1)\n",
        "articles_data.append(article2)\n",
        "print(articles_data[1][\"Τίτλος\"])"
      ]
    },
    {
      "cell_type": "code",
      "source": [
        "articles_data[0][\"Πηγή\"] = \"ΤΑ ΝΕΑ\"\n",
        "articles_data[1][\"Πηγή\"] = \"efsyn\"\n",
        "#θα μπορούσα και article1[\"Πηγή\"] = \"ΤΑ ΝΕΑ\" / article2[\"Πηγή\"] = \"efsyn\""
      ],
      "metadata": {
        "id": "i9AqVhCynJpD"
      },
      "execution_count": 3,
      "outputs": []
    },
    {
      "cell_type": "code",
      "source": [
        "print(articles_data)"
      ],
      "metadata": {
        "colab": {
          "base_uri": "https://localhost:8080/"
        },
        "id": "U2v6oEvfnQ7X",
        "outputId": "9c1bd1ce-66a7-4d78-a605-e5cfc9cac38b"
      },
      "execution_count": 4,
      "outputs": [
        {
          "output_type": "stream",
          "name": "stdout",
          "text": [
            "[{'Τίτλος': 'Τέμπη: Τελικά πόσοι άνθρωποι βρέθηκαν στο Σύνταγμα', 'Ημερομηνία': '01/03/2025', 'Κατηγορία': 'Κοινωνία', 'url': 'https://www.tanea.gr/2025/03/01/greece/tempi-telika-posoi-anthropoi-vrethikan-sto-syntagma-2/', 'Πηγή': 'ΤΑ ΝΕΑ'}, {'Τίτλος': 'Ντράπηκε και η ντροπή με το μήνυμα Μητσοτάκη για τα Τέμπη', 'Ημερομηνία': '28.02.25', 'Κατηγορία': 'Κοινωνία', 'url': 'https://www.efsyn.gr/politiki/kybernisi/464626_ntrapike-kai-i-ntropi-me-minyma-mitsotaki-gia-ta-tempi#goog_rewarded', 'Πηγή': 'efsyn'}]\n"
          ]
        }
      ]
    },
    {
      "cell_type": "code",
      "source": [
        "print (\"Το πλήθος των λεξικών που έχει η λίστα είναι: \", len(articles_data))"
      ],
      "metadata": {
        "colab": {
          "base_uri": "https://localhost:8080/"
        },
        "id": "2-xjeGZcnWI5",
        "outputId": "1569183a-7c81-499e-f7ab-7dbab6038c3c"
      },
      "execution_count": 5,
      "outputs": [
        {
          "output_type": "stream",
          "name": "stdout",
          "text": [
            "Το πλήθος των λεξικών που έχει η λίστα είναι:  2\n"
          ]
        }
      ]
    },
    {
      "cell_type": "markdown",
      "source": [
        "\n",
        "\n",
        "---\n",
        "\n"
      ],
      "metadata": {
        "id": "5YTNrgMwvHQb"
      }
    },
    {
      "cell_type": "markdown",
      "source": [
        "### Άσκηση 2\n",
        "\n",
        "Η ακολουθία των αριθμών που δημιουργείται από το άθροισμα ενός αριθμού με τον προηγούμενό του λέγεται ακολουθία [Φιμπονάτσι](https://el.wikipedia.org/wiki/%CE%91%CE%BA%CE%BF%CE%BB%CE%BF%CF%85%CE%B8%CE%AF%CE%B1_%CE%A6%CE%B9%CE%BC%CF%80%CE%BF%CE%BD%CE%AC%CF%84%CF%83%CE%B9).\n",
        "\n",
        "Στο παρακάτω κελί και κάτω από τον υπάρχοντα κώδικα:\n",
        "\n",
        "- φτιάξτε μια for loop που θα τρέχει 22 φορές και\n",
        "- θα φτιάχνει μια μεταβλητή με όνομα c και τιμή το άθροισμα των a και b\n",
        "- θα τυπώνει την τιμή του c\n",
        "- θα αλλάζει την τιμή του a σε b και\n",
        "- θα αλλάζει την τιμή του b σε c\n",
        "- τρέξτε τον κώδικα"
      ],
      "metadata": {
        "id": "omSbKRDDyGb4"
      }
    },
    {
      "cell_type": "code",
      "source": [
        "a = 0   # αρχική τιμή του a για την ακολουθία φιμπονάτσι\n",
        "b = 1   # αρχική τιμή του b για την ακολουθία φιμπονάτσι\n",
        "print(a)\n",
        "print(b)\n",
        "for i in range(22):\n",
        "  c = a + b\n",
        "  print(c)\n",
        "  a = b\n",
        "  b = c"
      ],
      "metadata": {
        "id": "EZVUpHre870A",
        "colab": {
          "base_uri": "https://localhost:8080/"
        },
        "outputId": "10c0b6bd-a257-4af5-b311-7ddb81549339"
      },
      "execution_count": 6,
      "outputs": [
        {
          "output_type": "stream",
          "name": "stdout",
          "text": [
            "0\n",
            "1\n",
            "1\n",
            "2\n",
            "3\n",
            "5\n",
            "8\n",
            "13\n",
            "21\n",
            "34\n",
            "55\n",
            "89\n",
            "144\n",
            "233\n",
            "377\n",
            "610\n",
            "987\n",
            "1597\n",
            "2584\n",
            "4181\n",
            "6765\n",
            "10946\n",
            "17711\n",
            "28657\n"
          ]
        }
      ]
    },
    {
      "cell_type": "markdown",
      "source": [
        "\n",
        "\n",
        "---\n",
        "\n"
      ],
      "metadata": {
        "id": "DmjkxZGvzXy1"
      }
    },
    {
      "cell_type": "markdown",
      "source": [
        "### Άσκηση 3\n",
        "\n",
        "Φτιάξτε ένα νέο κελί κώδικα ακριβώς από κάτω και:\n",
        "\n",
        "- Φτιάξτε μια λίστα με όνομα titlesL και βάλτε μέσα τους τίτλους 3 αγαπημένων σας ταινιών\n",
        "- Φτιάξτε άλλη μια λίστα με όνομα ratingsL και βάλτε μέσα το βαθμό (από το 1 έως το 10) που θα βάζατε σε καθε μια από τις ταινίες\n",
        "- Φτιάξτε μια for loop που να τρέχει για όλα τα αντικείμενα της λίστας των ταινιών και να τυπώνει το όνομά της και το βαθμό της.\n",
        "\n",
        "Hints:\n",
        "Δεδομενου ότι οι δύο λίστες έχουν τον ίδιο αριθμό αντικειμένων και η σειρά των βαθμολογιών αντιστοιχεί στη σειρά των ταινιών, μπορείτε να χρησιμοποιήσετε τον αριθμό του index και την range() σε συνδυασμό με τη len().\n",
        "\n",
        "**Γράψτε σε comment τι κάνει η κάθε γραμμή του κώδικά σας.**\n"
      ],
      "metadata": {
        "id": "QOAgGYGWvJIp"
      }
    },
    {
      "cell_type": "code",
      "source": [
        "titlesL = ['While you were sleeping', 'Avatar', 'Dying young']  #δημιουργώ λίστα με τις 3 αγαπημένες μου ταινίες\n",
        "ratingsL = [10, 9.5, 9]                                         #δημιουργώ λίστα με την κριτική για κάθε μία από τις ταινίες στη λίστα titlesL\n",
        "for i in range(len(titlesL)):                                   #δημιουργώ for loop όπου για κάθε item στο εύρος της λίστας titlesL(0,1,2):\n",
        "  print(titlesL[i], ratingsL[i])                                #ορίζω να τυπώνεται το item που έχει το index αντίστοιχο με τον αριθμό i από το range τόσο από τη λίστα titlesL αλλά και από τη λίστα ratingsL"
      ],
      "metadata": {
        "id": "wxuW62Ly2z8q",
        "colab": {
          "base_uri": "https://localhost:8080/"
        },
        "outputId": "cf8403db-816d-4149-91be-392aeb2f3a81"
      },
      "execution_count": 7,
      "outputs": [
        {
          "output_type": "stream",
          "name": "stdout",
          "text": [
            "While you were sleeping 10\n",
            "Avatar 9.5\n",
            "Dying young 9\n"
          ]
        }
      ]
    },
    {
      "cell_type": "markdown",
      "source": [
        "\n",
        "\n",
        "---\n",
        "\n"
      ],
      "metadata": {
        "id": "6kh_O0w5yEFw"
      }
    },
    {
      "cell_type": "markdown",
      "source": [
        "### Άσκηση 4\n",
        "\n",
        "Φτιάξτε ένα νέο κελί κώδικα ακριβώς από κάτω και:\n",
        "\n",
        "- Φτιάξτε μια λίστα με όνομα titlesL και βάλτε μέσα τους τίτλους 3 αγαπημένων σας ταινιών\n",
        "- Φτιάξτε άλλη μια λίστα με όνομα ratingsL και βάλτε μέσα το βαθμό (από το 1 έως το 10) που θα βάζατε σε καθε μια από τις ταινίες\n",
        "\n",
        "**Αν κάνατε την προηγούμενη άσκηση, χρησιμοποιήστε τις ήδη δημιουργημένες λίστες titlesL και ratingsL - δλδ μην φτιάξετε καινούριες λίστες για το ίδιο πράγμα**\n",
        "\n",
        "- Φτιάξτε μια κενή λίστα με όνομα moviesL\n",
        "\n",
        "Φτιάξτε μια for loop που να τρέχει για όλα τα indexes της λίστας των ταινιών και να κάνει τα παρακάτω:\n",
        "- δημιουργεί ένα κενό λεξικό με όνομα movieD\n",
        "- φτιάχνει ένα item στο λεξικό με όνομα κλειδιού \"title\" και τιμή τον τίτλο που αντιστοιχεί στο εκάστοτε index της λίστας titlesL\n",
        "- φτιάχνει ένα item στο λεξικό με όνομα κλειδιού \"rating\" και τιμή το rating που αντιστοιχεί στο εκάστοτε index της λίστας ratingsL\n",
        "- προσθέτει το λεξικό στη λίστα moviesL\n",
        "\n",
        "Τέλος, τυπώστε τη λίστα moviesL.\n",
        "\n",
        "**Γράψτε σε comment τι κάνει η κάθε γραμμή του κώδικά σας.**\n"
      ],
      "metadata": {
        "id": "TjFqUapc0JMr"
      }
    },
    {
      "cell_type": "code",
      "source": [
        "titlesL = ['While you were sleeping', 'Avatar', 'Dying young']  #δημιουργώ λίστα με τις 3 αγαπημένες μου ταινίες\n",
        "ratingsL = [10, 9.5, 9]                                         #δημιουργώ λίστα με την κριτική για κάθε μία από τις ταινίες στη λίστα titlesL\n",
        "moviesL = []                                                    #δημιουργώ μια κενή λίστα\n",
        "for item in range(len(titlesL)):                                #δημιουργώ for loop όπου για κάθε item στο εύρος της λίστας titlesL(0,1,2):\n",
        "  movieD = {}                                                   #δημιουργώ ένα κενό dictionary\n",
        "  movieD['title'] = titlesL[item]                               #αποθηκεύω στο key \"title\" ως value τον τίτλο που αντιστοιχεί στο εκάστοτε index της λίστας titlesL\n",
        "  movieD['rating'] = ratingsL[item]                             #αποθηκεύω στο key \"rating\" ως value το rating που αντιστοιχεί στο εκάστοτε index της λίστας titlesL\n",
        "  moviesL.append(movieD)                                        #προσθέτω το λεξικό εντός της λίστα moviesL\n",
        "print('Η λίστα moviesL περιέχει:', moviesL)                     #τυπώνω τη λίστα moviesL εκτός της forloop"
      ],
      "metadata": {
        "id": "gDcAB6eG8AbC",
        "colab": {
          "base_uri": "https://localhost:8080/"
        },
        "outputId": "e1baad84-0bde-47d3-9524-063e168716bf"
      },
      "execution_count": 8,
      "outputs": [
        {
          "output_type": "stream",
          "name": "stdout",
          "text": [
            "Η λίστα moviesL περιέχει: [{'title': 'While you were sleeping', 'rating': 10}, {'title': 'Avatar', 'rating': 9.5}, {'title': 'Dying young', 'rating': 9}]\n"
          ]
        }
      ]
    }
  ]
}